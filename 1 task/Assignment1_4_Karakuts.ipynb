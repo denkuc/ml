{
 "cells": [
  {
   "cell_type": "code",
   "execution_count": 1,
   "outputs": [],
   "source": [
    "import pandas as pd\n",
    "import numpy as np\n",
    "from sklearn.linear_model import LinearRegression\n",
    "from sklearn.model_selection import train_test_split\n",
    "\n",
    "data = pd.read_csv(\"adm_data.csv\", header=0, index_col=0)\n",
    "y = np.array(data['Chance of Admit '])"
   ],
   "metadata": {
    "collapsed": false
   }
  },
  {
   "cell_type": "code",
   "execution_count": 2,
   "outputs": [
    {
     "data": {
      "text/plain": "Index(['GRE Score', 'TOEFL Score', 'University Rating', 'SOP', 'LOR ', 'CGPA',\n       'Research', 'Chance of Admit '],\n      dtype='object')"
     },
     "execution_count": 2,
     "metadata": {},
     "output_type": "execute_result"
    }
   ],
   "source": [
    "data.columns"
   ],
   "metadata": {
    "collapsed": false
   }
  },
  {
   "cell_type": "code",
   "execution_count": 3,
   "metadata": {
    "colab": {
     "base_uri": "https://localhost:8080/"
    },
    "id": "5ThFh6haL0ow",
    "outputId": "79a87d47-6b8e-4d7b-861d-e6d385a39711"
   },
   "outputs": [
    {
     "name": "stdout",
     "output_type": "stream",
     "text": [
      "Model with GRE Score feature only\n",
      "With test_size = 0.1\n",
      "w: [0.01002557], b: -2.451049501931883\n",
      "RMS train: 0.08441050324396342\n",
      "RMS test : 0.08981132566467258\n",
      "\n",
      "With test_size = 0.25\n",
      "w: [0.01013045], b: -2.48167469526203\n",
      "RMS train: 0.083021022942522\n",
      "RMS test : 0.09085098944853723\n",
      "\n",
      "With test_size = 0.5\n",
      "w: [0.01014446], b: -2.488992432700206\n",
      "RMS train: 0.08580677867657648\n",
      "RMS test : 0.08415315339607578\n",
      "\n"
     ]
    }
   ],
   "source": [
    "x_a = np.array(data['GRE Score'])\n",
    "x_a=x_a.reshape(-1,1)\n",
    "\n",
    "print(\"Model with GRE Score feature only\")\n",
    "for test_size in [0.1, 0.25, 0.5]:\n",
    "    x_train_a, x_test_a, y_train_a, y_test_a = train_test_split(x_a, y, random_state=0, test_size=test_size)\n",
    "\n",
    "    model_a=LinearRegression()\n",
    "    reg_a = model_a.fit(x_train_a, y_train_a)\n",
    "\n",
    "    w_a = reg_a.coef_.T\n",
    "    b_a = reg_a.intercept_\n",
    "    print(f\"With test_size = {test_size}\")\n",
    "    print(f\"w: {w_a}, b: {b_a}\")\n",
    "\n",
    "    predicted_y_train_a = model_a.predict(x_train_a)\n",
    "    predicted_y_test_a = model_a.predict(x_test_a)\n",
    "\n",
    "    print(f\"RMS train: {np.sqrt(np.mean((y_train_a - predicted_y_train_a) ** 2))}\")\n",
    "    print(f\"RMS test : {np.sqrt(np.mean((y_test_a - predicted_y_test_a) ** 2))}\\n\")\n"
   ]
  },
  {
   "cell_type": "code",
   "execution_count": 4,
   "outputs": [
    {
     "name": "stdout",
     "output_type": "stream",
     "text": [
      "Model with GRE Score, University Rating features\n",
      "With test_size = 0.1\n",
      "w: [0.00722614 0.04077061], b: -1.6903642328905972\n",
      "RMS train: 0.07727599733246558\n",
      "RMS test : 0.0854296668738817\n",
      "\n",
      "With test_size = 0.25\n",
      "w: [0.00740224 0.03959183], b: -1.7410227940803304\n",
      "RMS train: 0.07608153388498747\n",
      "RMS test : 0.08403752784766393\n",
      "\n",
      "With test_size = 0.5\n",
      "w: [0.00755529 0.03825881], b: -1.7881302976881885\n",
      "RMS train: 0.07831472114325826\n",
      "RMS test : 0.07796852504725114\n",
      "\n"
     ]
    }
   ],
   "source": [
    "x_b = np.column_stack((np.array(data['GRE Score']), np.array(data['University Rating'])))\n",
    "\n",
    "print(\"Model with GRE Score, University Rating features\")\n",
    "for test_size in [0.1, 0.25, 0.5]:\n",
    "    x_train_b, x_test_b, y_train_b, y_test_b = train_test_split(x_b, y, random_state=0, test_size=test_size)\n",
    "\n",
    "    model_b = LinearRegression()\n",
    "    reg_b = model_b.fit(x_train_b, y_train_b)\n",
    "\n",
    "    w_b = reg_b.coef_.T\n",
    "    b_b = reg_b.intercept_\n",
    "    print(f\"With test_size = {test_size}\")\n",
    "    print(f\"w: {w_b}, b: {b_b}\")\n",
    "\n",
    "    predicted_y_train_b = model_b.predict(x_train_b)\n",
    "    predicted_y_test_b = model_b.predict(x_test_b)\n",
    "\n",
    "    print(f\"RMS train: {np.sqrt(np.mean((y_train_b - predicted_y_train_b) ** 2))}\")\n",
    "    print(f\"RMS test : {np.sqrt(np.mean((y_test_b - predicted_y_test_b) ** 2))}\\n\")"
   ],
   "metadata": {
    "collapsed": false
   }
  },
  {
   "cell_type": "code",
   "execution_count": 11,
   "outputs": [
    {
     "name": "stdout",
     "output_type": "stream",
     "text": [
      "Model with all available features\n",
      "With test_size = 0.1\n",
      "w: [ 0.00184368  0.0027815   0.00782288 -0.00537863  0.02146922  0.1214326\n",
      "  0.02145131], b: -1.2944241798749028\n",
      "RMS train: 0.06203596955517815\n",
      "RMS test : 0.0727361613459112\n",
      "\n",
      "With test_size = 0.25\n",
      "w: [ 0.00191797  0.00231299  0.00481521 -0.0057828   0.02135158  0.13035403\n",
      "  0.02141325], b: -1.3339694610647306\n",
      "RMS train: 0.06113112049751964\n",
      "RMS test : 0.06929284939167152\n",
      "\n",
      "With test_size = 0.5\n",
      "w: [0.00151761 0.00170993 0.00070853 0.00217073 0.0192217  0.14201253\n",
      " 0.01807171], b: -1.2512703159215266\n",
      "RMS train: 0.06186814213177347\n",
      "RMS test : 0.06560652615131152\n",
      "\n"
     ]
    }
   ],
   "source": [
    "x_c = np.column_stack((\n",
    "    np.array(data['GRE Score']),\n",
    "    np.array(data['TOEFL Score']),\n",
    "    np.array(data['University Rating']),\n",
    "    np.array(data['SOP']),\n",
    "    np.array(data['LOR ']),\n",
    "    np.array(data['CGPA']),\n",
    "    np.array(data['Research']),\n",
    "))\n",
    "\n",
    "print(\"Model with all available features\")\n",
    "for test_size in [0.1, 0.25, 0.5]:\n",
    "    x_train_c, x_test_c, y_train_c, y_test_c = train_test_split(x_c, y, random_state=0, test_size=test_size)\n",
    "\n",
    "    model_c=LinearRegression()\n",
    "    reg_c = model_c.fit(x_train_c, y_train_c)\n",
    "\n",
    "    w_c = reg_c.coef_.T\n",
    "    b_c = reg_c.intercept_\n",
    "    print(f\"With test_size = {test_size}\")\n",
    "    print(f\"w: {w_c}, b: {b_c}\")\n",
    "\n",
    "    predicted_y_train_c = model_c.predict(x_train_c)\n",
    "    predicted_y_test_c = model_c.predict(x_test_c)\n",
    "\n",
    "    print(f\"RMS train: {np.sqrt(np.mean((y_train_c - predicted_y_train_c) ** 2))}\")\n",
    "    print(f\"RMS test : {np.sqrt(np.mean((y_test_c - predicted_y_test_c) ** 2))}\\n\")\n"
   ],
   "metadata": {
    "collapsed": false,
    "ExecuteTime": {
     "end_time": "2023-11-12T12:40:06.788399200Z",
     "start_time": "2023-11-12T12:40:06.770422700Z"
    }
   }
  },
  {
   "cell_type": "markdown",
   "source": [
    "\\begin{table}\n",
    "\\begin{tabular}{|l|c|c|c|c|c|c|}\n",
    "\\hline\n",
    "           & \\multicolumn{2}{c|}{GRE\\_Score} & \\multicolumn{2}{c|}{GRE\\_Score, Univ\\_Rating} & \\multicolumn{2}{c|}{All\\_Features} \\\\ \\hline\n",
    "test\\_size & RMS train    & RMS test    & RMS train    & RMS test    & RMS train    & RMS test   \\\\ \\hline\n",
    "0.1        & 0.08441      & 0.08981     & 0.07728      & 0.08543     & 0.06204      & 0.07274    \\\\ \\hline\n",
    "0.25       & 0.08302      & 0.09085     & 0.07608      & 0.08404     & 0.06113      & 0.06929    \\\\ \\hline\n",
    "0.5        & 0.08581      & 0.08415     & 0.07831      & 0.07797     & 0.06187      & 0.06561    \\\\ \\hline\n",
    "\\end{tabular}\n",
    "\\end{table}\n",
    "\n",
    "* The RMS values for both training and testing decrease with the addition of more features. The model with all available features consistently shows the lowest RMS values across all test sizes, indicating better performance.\n",
    "* The RMS test values tend to be higher for smaller test sizes (0.1 and 0.25) compared to the largest test size (0.5). This might indicate that the models are more generalized and perform better on larger test sets.\n",
    "* The RMS train values are relatively consistent across different test sizes for each model, suggesting stable training performance regardless of the size of the test set.\n",
    "* The model with all available features not only has the lowest RMS values but also shows a more consistent performance between training and testing phases, especially for larger test sets, indicating a well-balanced and robust model.\n",
    "* These insights demonstrate the importance of feature selection in model performance and suggest that the inclusion of more relevant features can significantly enhance predictive accuracy."
   ],
   "metadata": {
    "collapsed": false
   }
  },
  {
   "cell_type": "code",
   "execution_count": null,
   "outputs": [],
   "source": [],
   "metadata": {
    "collapsed": false
   }
  }
 ],
 "metadata": {
  "colab": {
   "provenance": []
  },
  "kernelspec": {
   "display_name": "Python 3 (ipykernel)",
   "language": "python",
   "name": "python3"
  },
  "language_info": {
   "codemirror_mode": {
    "name": "ipython",
    "version": 3
   },
   "file_extension": ".py",
   "mimetype": "text/x-python",
   "name": "python",
   "nbconvert_exporter": "python",
   "pygments_lexer": "ipython3",
   "version": "3.11.0"
  }
 },
 "nbformat": 4,
 "nbformat_minor": 1
}
