{
 "cells": [
  {
   "cell_type": "code",
   "execution_count": null,
   "outputs": [],
   "source": [
    "import pandas as pd\n",
    "import numpy as np\n",
    "from sklearn.linear_model import LinearRegression\n",
    "from sklearn.model_selection import train_test_split\n",
    "\n",
    "#data = pd.read_csv(\"carsmall1.csv\")\n",
    "url = 'https://drive.google.com/uc?id={}'.format(\"1mdZ2M2hJBHYsUk8dRMyRNj_FHie2pqfV\")#carsmall1.csv\n",
    "data = pd.read_csv(url)\n",
    "y = np.array(data['Horsepower'])"
   ],
   "metadata": {
    "collapsed": false
   }
  },
  {
   "cell_type": "code",
   "execution_count": 12,
   "metadata": {
    "colab": {
     "base_uri": "https://localhost:8080/"
    },
    "id": "5ThFh6haL0ow",
    "outputId": "79a87d47-6b8e-4d7b-861d-e6d385a39711",
    "ExecuteTime": {
     "end_time": "2023-11-11T12:37:04.356357600Z",
     "start_time": "2023-11-11T12:37:04.332638400Z"
    }
   },
   "outputs": [
    {
     "name": "stdout",
     "output_type": "stream",
     "text": [
      "With test_size = 0.1\n",
      "w: [-4.44525956], b: 215.1733890979309\n",
      "RMS train: 26.588711846995785\n",
      "RMS test : 29.38683449938521\n",
      "\n",
      "With test_size = 0.25\n",
      "w: [-3.93466224], b: 200.93014424178915\n",
      "RMS train: 22.407410758537424\n",
      "RMS test : 38.1284538053723\n",
      "\n",
      "With test_size = 0.5\n",
      "w: [-4.20630579], b: 205.6808140495868\n",
      "RMS train: 21.351312350217164\n",
      "RMS test : 31.94569407869715\n",
      "\n"
     ]
    }
   ],
   "source": [
    "x_a = np.array(data['MPG'])\n",
    "x_a=x_a.reshape(-1,1)\n",
    "\n",
    "print(\"Model with MPG feature only\")\n",
    "for test_size in [0.1, 0.25, 0.5]:\n",
    "    x_train_a, x_test_a, y_train_a, y_test_a = train_test_split(x_a, y, random_state=0, test_size=test_size)\n",
    "\n",
    "    model_a=LinearRegression()\n",
    "    reg_a = model_a.fit(x_train_a, y_train_a)\n",
    "\n",
    "    w_a = reg_a.coef_.T\n",
    "    b_a = reg_a.intercept_\n",
    "    print(f\"With test_size = {test_size}\")\n",
    "    print(f\"w: {w_a}, b: {b_a}\")\n",
    "\n",
    "    predicted_y_train_a = model_a.predict(x_train_a)\n",
    "    predicted_y_test_a = model_a.predict(x_test_a)\n",
    "\n",
    "    print(f\"RMS train: {np.sqrt(np.mean((y_train_a - predicted_y_train_a) ** 2))}\")\n",
    "    print(f\"RMS test : {np.sqrt(np.mean((y_test_a - predicted_y_test_a) ** 2))}\\n\")\n"
   ]
  },
  {
   "cell_type": "code",
   "execution_count": 15,
   "outputs": [
    {
     "name": "stdout",
     "output_type": "stream",
     "text": [
      "With test_size = 0.1\n",
      "w: [-16.2096824    0.23722435], b: 345.55119345516385\n",
      "RMS train: 20.551737105507296\n",
      "RMS test : 28.373002260411248\n",
      "\n",
      "With test_size = 0.25\n",
      "w: [-14.20976669   0.20460416], b: 316.6151534574984\n",
      "RMS train: 16.93065024769068\n",
      "RMS test : 32.10014758031733\n",
      "\n",
      "With test_size = 0.5\n",
      "w: [-13.13693292   0.181579  ], b: 305.0061638128428\n",
      "RMS train: 16.739986852408776\n",
      "RMS test : 26.255166945657017\n",
      "\n"
     ]
    }
   ],
   "source": [
    "x_b = np.column_stack((np.array(data['MPG']), np.array(data['MPG']) ** 2))\n",
    "\n",
    "print(\"Model with MPG, MPG**2 features\")\n",
    "for test_size in [0.1, 0.25, 0.5]:\n",
    "    x_train_b, x_test_b, y_train_b, y_test_b = train_test_split(x_b, y, random_state=0, test_size=test_size)\n",
    "\n",
    "    model_b = LinearRegression()\n",
    "    reg_b = model_b.fit(x_train_b, y_train_b)\n",
    "\n",
    "    w_b = reg_b.coef_.T\n",
    "    b_b = reg_b.intercept_\n",
    "    print(f\"With test_size = {test_size}\")\n",
    "    print(f\"w: {w_b}, b: {b_b}\")\n",
    "\n",
    "    predicted_y_train_b = model_b.predict(x_train_b)\n",
    "    predicted_y_test_b = model_b.predict(x_test_b)\n",
    "\n",
    "    print(f\"RMS train: {np.sqrt(np.mean((y_train_b - predicted_y_train_b) ** 2))}\")\n",
    "    print(f\"RMS test : {np.sqrt(np.mean((y_test_b - predicted_y_test_b) ** 2))}\\n\")"
   ],
   "metadata": {
    "collapsed": false,
    "ExecuteTime": {
     "end_time": "2023-11-11T12:40:37.005341700Z",
     "start_time": "2023-11-11T12:40:36.972464100Z"
    }
   }
  },
  {
   "cell_type": "code",
   "execution_count": 18,
   "outputs": [
    {
     "name": "stdout",
     "output_type": "stream",
     "text": [
      "Model with MPG, MPG**2, Weight features\n",
      "With test_size = 0.1\n",
      "w: [-8.88387008  0.13846027  0.02805658], b: 149.55013080540806\n",
      "RMS train: 18.485081598078015\n",
      "RMS test : 31.37254510860941\n",
      "\n",
      "With test_size = 0.25\n",
      "w: [-10.19056717   0.15064916   0.01589543], b: 207.589677996371\n",
      "RMS train: 16.22211901613297\n",
      "RMS test : 30.049599984159585\n",
      "\n",
      "With test_size = 0.5\n",
      "w: [-1.05593346e+01  1.48360440e-01  1.01917352e-02], b: 234.50106210868518\n",
      "RMS train: 16.467332060852094\n",
      "RMS test : 24.98262791975454\n",
      "\n"
     ]
    }
   ],
   "source": [
    "x_c = np.column_stack((np.array(data['MPG']), np.array(data['MPG']) ** 2, np.array(data['Weight'])))\n",
    "\n",
    "print(\"Model with MPG, MPG**2, Weight features\")\n",
    "for test_size in [0.1, 0.25, 0.5]:\n",
    "    x_train_c, x_test_c, y_train_c, y_test_c = train_test_split(x_c, y, random_state=0, test_size=test_size)\n",
    "\n",
    "    model_c=LinearRegression()\n",
    "    reg_c = model_c.fit(x_train_c, y_train_c)\n",
    "\n",
    "    w_c = reg_c.coef_.T\n",
    "    b_c = reg_c.intercept_\n",
    "    print(f\"With test_size = {test_size}\")\n",
    "    print(f\"w: {w_c}, b: {b_c}\")\n",
    "\n",
    "    predicted_y_train_c = model_c.predict(x_train_c)\n",
    "    predicted_y_test_c = model_c.predict(x_test_c)\n",
    "\n",
    "    print(f\"RMS train: {np.sqrt(np.mean((y_train_c - predicted_y_train_c) ** 2))}\")\n",
    "    print(f\"RMS test : {np.sqrt(np.mean((y_test_c - predicted_y_test_c) ** 2))}\\n\")\n"
   ],
   "metadata": {
    "collapsed": false,
    "ExecuteTime": {
     "end_time": "2023-11-11T13:26:17.403462900Z",
     "start_time": "2023-11-11T13:26:17.348456400Z"
    }
   }
  },
  {
   "cell_type": "markdown",
   "source": [
    "\\begin{table}\n",
    "\\begin{tabular}{|l|c|c|c|c|c|c|}\n",
    "\\hline\n",
    " & \\multicolumn{2}{c|}{MPG} & \\multicolumn{2}{c|}{MPG, MPG\\textsuperscript{2}} & \\multicolumn{2}{c|}{MPG, MPG\\textsuperscript{2}, Weight} \\\\ \\hline\n",
    "test\\_size & RMS\\_ train & RMS\\_ test & RMS\\_ train & RMS\\_ test & RMS\\_ train & RMS\\_ test \\\\ \\hline\n",
    "0.1        & 26.59      & 29.39      & 20.55       & 28.37      & 18.49       & 31.37     \\\\ \\hline\n",
    "0.25       & 22.41      & 38.13      & 16.93       & 32.10      & 16.22       & 30.05     \\\\ \\hline\n",
    "0.5        & 21.35      & 31.95      & 16.74       & 26.26      & 16.47       & 24.98     \\\\ \\hline\n",
    "\\end{tabular}\n",
    "\\end{table}\n",
    "\n",
    "* The RMS train values generally decrease as the test size increases, indicating potentially better training performance with larger test sizes.\n",
    "* The RMS test values vary across different models and test sizes, suggesting a complex relationship between model complexity, training, and testing performance.\n",
    "* The model evaluated with MPG, MPG², and Weight tends to have lower RMS train and RMS test values compared to the other models, especially noticeable at a test size of 0.5."
   ],
   "metadata": {
    "collapsed": false
   }
  },
  {
   "cell_type": "code",
   "execution_count": null,
   "outputs": [],
   "source": [],
   "metadata": {
    "collapsed": false
   }
  }
 ],
 "metadata": {
  "colab": {
   "provenance": []
  },
  "kernelspec": {
   "display_name": "Python 3 (ipykernel)",
   "language": "python",
   "name": "python3"
  },
  "language_info": {
   "codemirror_mode": {
    "name": "ipython",
    "version": 3
   },
   "file_extension": ".py",
   "mimetype": "text/x-python",
   "name": "python",
   "nbconvert_exporter": "python",
   "pygments_lexer": "ipython3",
   "version": "3.11.0"
  }
 },
 "nbformat": 4,
 "nbformat_minor": 1
}
