{
 "cells": [
  {
   "cell_type": "code",
   "execution_count": 6,
   "outputs": [],
   "source": [
    "import pandas as pd\n",
    "import numpy as np\n",
    "from sklearn.linear_model import LinearRegression\n",
    "from sklearn.model_selection import train_test_split\n",
    "\n",
    "data = pd.read_csv(\"cars-cleaned.csv\", header=0, index_col=0)\n",
    "y = np.array(data['price'])"
   ],
   "metadata": {
    "collapsed": false,
    "ExecuteTime": {
     "end_time": "2023-11-11T13:27:18.249743600Z",
     "start_time": "2023-11-11T13:27:18.102835900Z"
    }
   }
  },
  {
   "cell_type": "code",
   "execution_count": 7,
   "metadata": {
    "colab": {
     "base_uri": "https://localhost:8080/"
    },
    "id": "5ThFh6haL0ow",
    "outputId": "79a87d47-6b8e-4d7b-861d-e6d385a39711",
    "ExecuteTime": {
     "end_time": "2023-11-11T13:27:18.249743600Z",
     "start_time": "2023-11-11T13:27:18.123601100Z"
    }
   },
   "outputs": [
    {
     "name": "stdout",
     "output_type": "stream",
     "text": [
      "Model with year feature only\n",
      "With test_size = 0.1\n",
      "w: [1201.53049103], b: -2405343.508440503\n",
      "RMS train: 2288.942062643956\n",
      "RMS test : 2086.8033221138535\n",
      "\n",
      "With test_size = 0.25\n",
      "w: [1196.80664964], b: -2395885.5817825664\n",
      "RMS train: 2315.4340401933478\n",
      "RMS test : 2117.543090952875\n",
      "\n",
      "With test_size = 0.5\n",
      "w: [1220.64153476], b: -2444036.072596617\n",
      "RMS train: 2238.482109537716\n",
      "RMS test : 2301.6812813499605\n",
      "\n"
     ]
    }
   ],
   "source": [
    "x_a = np.array(data['year'])\n",
    "x_a=x_a.reshape(-1,1)\n",
    "\n",
    "print(\"Model with year feature only\")\n",
    "for test_size in [0.1, 0.25, 0.5]:\n",
    "    x_train_a, x_test_a, y_train_a, y_test_a = train_test_split(x_a, y, random_state=0, test_size=test_size)\n",
    "\n",
    "    model_a=LinearRegression()\n",
    "    reg_a = model_a.fit(x_train_a, y_train_a)\n",
    "\n",
    "    w_a = reg_a.coef_.T\n",
    "    b_a = reg_a.intercept_\n",
    "    print(f\"With test_size = {test_size}\")\n",
    "    print(f\"w: {w_a}, b: {b_a}\")\n",
    "\n",
    "    predicted_y_train_a = model_a.predict(x_train_a)\n",
    "    predicted_y_test_a = model_a.predict(x_test_a)\n",
    "\n",
    "    print(f\"RMS train: {np.sqrt(np.mean((y_train_a - predicted_y_train_a) ** 2))}\")\n",
    "    print(f\"RMS test : {np.sqrt(np.mean((y_test_a - predicted_y_test_a) ** 2))}\\n\")\n"
   ]
  },
  {
   "cell_type": "code",
   "execution_count": 8,
   "outputs": [
    {
     "name": "stdout",
     "output_type": "stream",
     "text": [
      "Model with mileage, year features\n",
      "With test_size = 0.1\n",
      "w: [ 9.49509796e+02 -1.60476708e-07], b: -1896255.0986029773\n",
      "RMS train: 2176.0462368752433\n",
      "RMS test : 1926.3025750896627\n",
      "\n",
      "With test_size = 0.25\n",
      "w: [ 9.45168917e+02 -1.55944002e-07], b: -1887567.0737596825\n",
      "RMS train: 2201.7937089198726\n",
      "RMS test : 1990.9870161838364\n",
      "\n",
      "With test_size = 0.5\n",
      "w: [ 9.16799779e+02 -2.21560166e-07], b: -1830184.3728594333\n",
      "RMS train: 2055.819364567324\n",
      "RMS test : 2296.7967287761735\n",
      "\n"
     ]
    }
   ],
   "source": [
    "x_b = np.column_stack((np.array(data['year']), np.array(data['mileage']) ** 2))\n",
    "\n",
    "print(\"Model with mileage, year features\")\n",
    "for test_size in [0.1, 0.25, 0.5]:\n",
    "    x_train_b, x_test_b, y_train_b, y_test_b = train_test_split(x_b, y, random_state=0, test_size=test_size)\n",
    "\n",
    "    model_b = LinearRegression()\n",
    "    reg_b = model_b.fit(x_train_b, y_train_b)\n",
    "\n",
    "    w_b = reg_b.coef_.T\n",
    "    b_b = reg_b.intercept_\n",
    "    print(f\"With test_size = {test_size}\")\n",
    "    print(f\"w: {w_b}, b: {b_b}\")\n",
    "\n",
    "    predicted_y_train_b = model_b.predict(x_train_b)\n",
    "    predicted_y_test_b = model_b.predict(x_test_b)\n",
    "\n",
    "    print(f\"RMS train: {np.sqrt(np.mean((y_train_b - predicted_y_train_b) ** 2))}\")\n",
    "    print(f\"RMS test : {np.sqrt(np.mean((y_test_b - predicted_y_test_b) ** 2))}\\n\")"
   ],
   "metadata": {
    "collapsed": false,
    "ExecuteTime": {
     "end_time": "2023-11-11T13:27:18.249743600Z",
     "start_time": "2023-11-11T13:27:18.138025600Z"
    }
   }
  },
  {
   "cell_type": "code",
   "execution_count": 9,
   "outputs": [
    {
     "name": "stdout",
     "output_type": "stream",
     "text": [
      "Model with mileage, mileage**2, year features\n",
      "With test_size = 0.1\n",
      "w: [-9.08645708e-02  2.14427197e-07  7.06413240e+02], b: -1402645.104916761\n",
      "RMS train: 1826.705266704051\n",
      "RMS test : 1681.1480761201149\n",
      "\n",
      "With test_size = 0.25\n",
      "w: [-9.28103574e-02  2.24985665e-07  7.10965645e+02], b: -1411833.3201894888\n",
      "RMS train: 1828.7357277310416\n",
      "RMS test : 1768.711511401156\n",
      "\n",
      "With test_size = 0.5\n",
      "w: [-7.69577009e-02  1.36277923e-07  7.56948507e+02], b: -1505140.0269653762\n",
      "RMS train: 1842.4714254736978\n",
      "RMS test : 1831.4510422524481\n",
      "\n"
     ]
    }
   ],
   "source": [
    "x_c = np.column_stack((np.array(data['mileage']), np.array(data['mileage']) ** 2, np.array(data['year'])))\n",
    "\n",
    "print(\"Model with mileage, mileage**2, year features\")\n",
    "for test_size in [0.1, 0.25, 0.5]:\n",
    "    x_train_c, x_test_c, y_train_c, y_test_c = train_test_split(x_c, y, random_state=0, test_size=test_size)\n",
    "\n",
    "    model_c=LinearRegression()\n",
    "    reg_c = model_c.fit(x_train_c, y_train_c)\n",
    "\n",
    "    w_c = reg_c.coef_.T\n",
    "    b_c = reg_c.intercept_\n",
    "    print(f\"With test_size = {test_size}\")\n",
    "    print(f\"w: {w_c}, b: {b_c}\")\n",
    "\n",
    "    predicted_y_train_c = model_c.predict(x_train_c)\n",
    "    predicted_y_test_c = model_c.predict(x_test_c)\n",
    "\n",
    "    print(f\"RMS train: {np.sqrt(np.mean((y_train_c - predicted_y_train_c) ** 2))}\")\n",
    "    print(f\"RMS test : {np.sqrt(np.mean((y_test_c - predicted_y_test_c) ** 2))}\\n\")\n"
   ],
   "metadata": {
    "collapsed": false,
    "ExecuteTime": {
     "end_time": "2023-11-11T13:27:18.262834700Z",
     "start_time": "2023-11-11T13:27:18.165486200Z"
    }
   }
  },
  {
   "cell_type": "markdown",
   "source": [
    "\\begin{table}\n",
    "\\begin{tabular}{|l|c|c|c|c|c|c|}\n",
    "\\hline\n",
    "& \\multicolumn{2}{c|}{Year} & \\multicolumn{2}{c|}{Mileage, Year} & \\multicolumn{2}{c|}{Mileage, Mileage\\textsuperscript{2}, Year} \\\\ \\hline\n",
    "test\\_size & RMS train  & RMS test   & RMS train   & RMS test   & RMS train   & RMS test  \\\\ \\hline\n",
    "0.1        & 2288.94    & 2086.80    & 2176.05     & 1926.30    & 1826.71     & 1681.15   \\\\ \\hline\n",
    "0.25       & 2315.43    & 2117.54    & 2201.79     & 1990.99    & 1828.74     & 1768.71   \\\\ \\hline\n",
    "0.5        & 2238.48    & 2301.68    & 2055.82     & 2296.80    & 1842.47     & 1831.45   \\\\ \\hline\n",
    "\\end{tabular}\n",
    "\\end{table}\n",
    "\n",
    "* Across all models, the RMS train values tend to be higher than the RMS test values, particularly at larger test sizes.\n",
    "* The addition of \"Mileage\" and \"Mileage²\" features to the \"Year\" feature generally improves the model's performance, as indicated by lower RMS values. This is particularly evident in the model with \"Mileage\", \"Mileage²\", \"Year\" features, which consistently shows the lowest RMS train and test values across all test sizes.\n",
    "* The model with only the \"Year\" feature has the highest RMS values, suggesting it is less effective compared to the other two models.\n",
    "As the test size increases, the RMS test values generally increase, indicating a potential overfitting issue with smaller test sizes or that the models are less effective with larger test sizes.\n",
    "* These insights suggest that including additional features like \"Mileage\" and \"Mileage²\" alongside \"Year\" can significantly improve model performance."
   ],
   "metadata": {
    "collapsed": false
   }
  }
 ],
 "metadata": {
  "colab": {
   "provenance": []
  },
  "kernelspec": {
   "display_name": "Python 3 (ipykernel)",
   "language": "python",
   "name": "python3"
  },
  "language_info": {
   "codemirror_mode": {
    "name": "ipython",
    "version": 3
   },
   "file_extension": ".py",
   "mimetype": "text/x-python",
   "name": "python",
   "nbconvert_exporter": "python",
   "pygments_lexer": "ipython3",
   "version": "3.11.0"
  }
 },
 "nbformat": 4,
 "nbformat_minor": 1
}
